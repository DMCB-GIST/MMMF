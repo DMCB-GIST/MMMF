{
 "cells": [
  {
   "cell_type": "markdown",
   "id": "73765d34",
   "metadata": {},
   "source": [
    "### Import Library"
   ]
  },
  {
   "cell_type": "code",
   "execution_count": 1,
   "id": "be365f97",
   "metadata": {},
   "outputs": [],
   "source": [
    "import numpy as np\n",
    "import pandas as pd\n",
    "\n",
    "select_gene_num = 5"
   ]
  },
  {
   "cell_type": "markdown",
   "id": "708b6ca4",
   "metadata": {},
   "source": [
    "### ADNI"
   ]
  },
  {
   "cell_type": "code",
   "execution_count": 2,
   "id": "384352d3",
   "metadata": {},
   "outputs": [
    {
     "name": "stdout",
     "output_type": "stream",
     "text": [
      "['DSC1', 'CARD16', 'METTL7B', 'RGMB', 'CHEK1']\n"
     ]
    }
   ],
   "source": [
    "# Find Best Performance in Feature Selection2 Experiments\n",
    "adni_result_pd = pd.DataFrame(columns=['mp', 'cv', 'auc'])\n",
    "\n",
    "for mp in [1000, 2000, 3000]:\n",
    "    validation = pd.read_csv('./Result/Feature_Selection2/'+str(mp)+'/ADNI/Validation.csv', index_col = 0)\n",
    "    test = pd.read_csv('./Result/Feature_Selection2/'+str(mp)+'/ADNI/Test.csv', index_col = 0)\n",
    "\n",
    "    num_hyper_params = validation.shape[0]\n",
    "    metric_index = 2\n",
    "    val_result = np.zeros((num_hyper_params, 5))\n",
    "    for k in range(num_hyper_params):\n",
    "        # 5 CV\n",
    "        for i in range(5):\n",
    "            val_result[k, i] = float(validation.iloc[k, metric_index].split(',')[i])\n",
    "\n",
    "        index = np.argmax(val_result, 0)\n",
    "        auc = np.zeros(5)\n",
    "\n",
    "    for i in range(5):\n",
    "        auc[i] = float(test.iloc[index[i], 2].split(',')[i])\n",
    "    \n",
    "    for cv in range(5):\n",
    "        adni_result_pd = adni_result_pd.append({'mp': top_n, 'cv': cv+1, 'auc': auc[cv]}, ignore_index=True)\n",
    "        \n",
    "select_pd = adni_result_pd[adni_result_pd['auc'] == adni_result_pd['auc'].max()].copy()\n",
    "\n",
    "top_5_gene_list = []\n",
    "count = 0\n",
    "mp = int(select_pd['mp'].values[0])\n",
    "cv = int(select_pd['cv'].values[0]-1)\n",
    "\n",
    "# Find top 5 genes\n",
    "result_pd = pd.read_csv('./Result/Feature_Selection_Data2/'+str(mp)+'/ADNI/cv'+str(cv+1)+'gene.csv', index_col = 0)\n",
    "for g in result_pd.columns.to_list()[2:2+select_gene_num]:\n",
    "    top_5_gene_list.append(g)\n",
    "print(top_5_gene_list)"
   ]
  },
  {
   "cell_type": "markdown",
   "id": "1cd2da2e",
   "metadata": {},
   "source": [
    "### BRCA"
   ]
  },
  {
   "cell_type": "code",
   "execution_count": 3,
   "id": "c76689bb",
   "metadata": {},
   "outputs": [
    {
     "name": "stdout",
     "output_type": "stream",
     "text": [
      "['NLRP3', 'PRAM1', 'ZNF804A', 'SFRS9', 'GNG10']\n"
     ]
    }
   ],
   "source": [
    "# Find Best Performance in Feature Selection2 Experiments\n",
    "brca_result_pd = pd.DataFrame(columns=['mp', 'cv', 'auc'])\n",
    "\n",
    "for mp in [1000, 2000, 3000]:\n",
    "    validation = pd.read_csv('./Result/Feature_Selection2/'+str(mp)+'/BRCA/Validation.csv', index_col = 0)\n",
    "    test = pd.read_csv('./Result/Feature_Selection2/'+str(mp)+'/BRCA/Test.csv', index_col = 0)\n",
    "\n",
    "    num_hyper_params = validation.shape[0]\n",
    "    metric_index = 2\n",
    "    val_result = np.zeros((num_hyper_params, 5))\n",
    "    for k in range(num_hyper_params):\n",
    "        # 5 CV\n",
    "        for i in range(5):\n",
    "            val_result[k, i] = float(validation.iloc[k, metric_index].split(',')[i])\n",
    "\n",
    "        index = np.argmax(val_result, 0)\n",
    "        auc = np.zeros(5)\n",
    "\n",
    "    for i in range(5):\n",
    "        auc[i] = float(test.iloc[index[i], 2].split(',')[i])\n",
    "    \n",
    "    for cv in range(5):\n",
    "        brca_result_pd = brca_result_pd.append({'mp': top_n, 'cv': cv+1, 'auc': auc[cv]}, ignore_index=True)\n",
    "        \n",
    "select_pd = brca_result_pd[brca_result_pd['auc'] == brca_result_pd['auc'].max()].copy()\n",
    "\n",
    "top_5_gene_list = []\n",
    "count = 0\n",
    "mp = int(select_pd['mp'].values[0])\n",
    "cv = int(select_pd['cv'].values[0]-1)\n",
    "\n",
    "# Find top 5 genes\n",
    "result_pd = pd.read_csv('./Result/Feature_Selection_Data2/'+str(mp)+'/BRCA/cv'+str(cv+1)+'gene.csv', index_col = 0)\n",
    "for g in result_pd.columns.to_list()[2:2+select_gene_num]:\n",
    "    top_5_gene_list.append(g.split('gene:')[1])\n",
    "print(top_5_gene_list)"
   ]
  }
 ],
 "metadata": {
  "kernelspec": {
   "display_name": "Python 3",
   "language": "python",
   "name": "python3"
  },
  "language_info": {
   "codemirror_mode": {
    "name": "ipython",
    "version": 3
   },
   "file_extension": ".py",
   "mimetype": "text/x-python",
   "name": "python",
   "nbconvert_exporter": "python",
   "pygments_lexer": "ipython3",
   "version": "3.7.3"
  }
 },
 "nbformat": 4,
 "nbformat_minor": 5
}
